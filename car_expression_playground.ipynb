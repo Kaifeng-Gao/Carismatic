{
 "cells": [
  {
   "cell_type": "markdown",
   "id": "958b0ec00cead054",
   "metadata": {
    "collapsed": false
   },
   "source": [
    "ViT Model trained on FER2013 from https://huggingface.co/trpakov/vit-face-expression"
   ]
  },
  {
   "cell_type": "code",
   "execution_count": 1,
   "id": "initial_id",
   "metadata": {
    "ExecuteTime": {
     "end_time": "2024-10-28T19:44:35.205344Z",
     "start_time": "2024-10-28T19:44:34.923831Z"
    },
    "collapsed": true
   },
   "outputs": [],
   "source": [
    "# Load model directly\n",
    "from transformers import AutoImageProcessor, AutoModelForImageClassification\n",
    "import torch\n",
    "\n",
    "processor = AutoImageProcessor.from_pretrained(\"trpakov/vit-face-expression\")\n",
    "model = AutoModelForImageClassification.from_pretrained(\"trpakov/vit-face-expression\")"
   ]
  },
  {
   "cell_type": "code",
   "execution_count": 2,
   "id": "ee867fe448d3f2c",
   "metadata": {
    "ExecuteTime": {
     "end_time": "2024-10-28T19:44:35.392580Z",
     "start_time": "2024-10-28T19:44:35.378586Z"
    },
    "collapsed": false
   },
   "outputs": [],
   "source": [
    "import numpy as np"
   ]
  },
  {
   "cell_type": "code",
   "execution_count": 3,
   "id": "a9b10f79efec5380",
   "metadata": {
    "ExecuteTime": {
     "end_time": "2024-10-28T19:44:35.953188Z",
     "start_time": "2024-10-28T19:44:35.940073Z"
    },
    "collapsed": false
   },
   "outputs": [],
   "source": [
    "processor.do_convert_rgb = True\n",
    "processor.do_rgb_to_grayscale = True"
   ]
  },
  {
   "cell_type": "code",
   "execution_count": null,
   "id": "c6fc2c78",
   "metadata": {},
   "outputs": [],
   "source": [
    "processor"
   ]
  },
  {
   "cell_type": "markdown",
   "id": "fbd346b6f79276ab",
   "metadata": {
    "collapsed": false
   },
   "source": [
    "Download dataset from https://figshare.com/articles/figure/DVM-CAR_Dataset/19586296/1?file=34792480\n",
    "Place under `data/images`"
   ]
  },
  {
   "cell_type": "code",
   "execution_count": 5,
   "id": "e05c2af80f80f100",
   "metadata": {
    "ExecuteTime": {
     "end_time": "2024-10-28T19:44:36.717166Z",
     "start_time": "2024-10-28T19:44:36.712074Z"
    },
    "collapsed": false
   },
   "outputs": [],
   "source": [
    "TEST_IMAGE_PATH = \"data/images/confirmed_fronts/Lexus/2017/Lexus$$RX 450h$$2017$$Red$$48_24$$468$$image_1.jpg\"\n",
    "CLASS_INDEX = {\n",
    "    0: \"Angry\",\n",
    "    1: \"Disgust\",\n",
    "    2: \"Fear\",\n",
    "    3: \"Happy\",\n",
    "    4: \"Sad\",\n",
    "    5: \"Surprise\",\n",
    "    6: \"Neutral\"\n",
    "}"
   ]
  },
  {
   "cell_type": "code",
   "execution_count": 6,
   "id": "5e9cb0a33f1270fd",
   "metadata": {
    "ExecuteTime": {
     "end_time": "2024-10-28T19:44:37.322568Z",
     "start_time": "2024-10-28T19:44:37.280573Z"
    },
    "collapsed": false
   },
   "outputs": [],
   "source": [
    "from PIL import Image\n",
    "\n",
    "def predict_expression(image_path):\n",
    "    # Open the image\n",
    "    # image = Image.open(image_path)\n",
    "    gray_image = Image.open(image_path).convert('L')\n",
    "    image = gray_image.convert('RGB')\n",
    "\n",
    "    # Preprocess the image\n",
    "    inputs = processor(images=image, return_tensors=\"pt\")\n",
    "    \n",
    "    # Run inference\n",
    "    with torch.no_grad():\n",
    "        outputs = model(**inputs)\n",
    "\n",
    "    # Get the predicted class\n",
    "    predicted_class_idx = outputs.logits.argmax(-1).item()\n",
    "    predicted_prob = outputs.logits[0].softmax(-1).tolist()\n",
    "    \n",
    "    # Get the human-readable label\n",
    "    label = CLASS_INDEX[predicted_class_idx]\n",
    "    \n",
    "    return image, label, predicted_prob"
   ]
  },
  {
   "cell_type": "code",
   "execution_count": 7,
   "id": "c72234796f18186d",
   "metadata": {
    "ExecuteTime": {
     "end_time": "2024-10-28T19:44:37.785765Z",
     "start_time": "2024-10-28T19:44:37.769884Z"
    },
    "collapsed": false
   },
   "outputs": [],
   "source": [
    "import matplotlib.pyplot as plt\n",
    "\n",
    "def visualize_images(image_paths):\n",
    "    num_images = len(image_paths)\n",
    "    # Set up the plot\n",
    "    fig, axes = plt.subplots(1, num_images, figsize=(15, 5))\n",
    "\n",
    "    for idx, image_path in enumerate(image_paths):\n",
    "        # Predict expression\n",
    "        image, label, _ = predict_expression(image_path)\n",
    "        \n",
    "        # If there's only one image, `axes` is not a list.\n",
    "        ax = axes if num_images == 1 else axes[idx]\n",
    "        \n",
    "        # Display the image\n",
    "        ax.imshow(image)\n",
    "        ax.set_title(label)\n",
    "        ax.axis('off')  # Hide axis\n",
    "\n",
    "    plt.tight_layout()\n",
    "    plt.show()"
   ]
  },
  {
   "cell_type": "code",
   "execution_count": null,
   "id": "9e536399d0c5ad94",
   "metadata": {
    "ExecuteTime": {
     "end_time": "2024-10-28T19:44:38.723205Z",
     "start_time": "2024-10-28T19:44:38.430793Z"
    },
    "collapsed": false
   },
   "outputs": [],
   "source": [
    "visualize_images([TEST_IMAGE_PATH,])"
   ]
  },
  {
   "cell_type": "code",
   "execution_count": 9,
   "id": "5c3f915e2f609a82",
   "metadata": {
    "ExecuteTime": {
     "end_time": "2024-10-28T19:43:41.212208Z",
     "start_time": "2024-10-28T19:43:41.193721Z"
    },
    "collapsed": false
   },
   "outputs": [],
   "source": [
    "image_paths = [\n",
    "    \"data/images/confirmed_fronts/Lexus/2017/Lexus$$RX 450h$$2017$$Red$$48_24$$468$$image_1.jpg\",\n",
    "    \"data/images/confirmed_fronts/Audi/2017/Audi$$Q5$$2017$$Black$$7_20$$1219$$image_5.jpg\",\n",
    "    \"data/images/confirmed_fronts/Tesla/2017/Tesla$$Model X$$2017$$White$$90_2$$8$$image_0.jpg\",\n",
    "    \"data/images/confirmed_fronts/Toyota/2017/Toyota$$RAV4$$2017$$Silver$$92_34$$164$$image_0.jpg\",\n",
    "    \"data/images/confirmed_fronts/Subaru/2017/Subaru$$Outback$$2017$$Black$$86_7$$89$$image_4.jpg\",\n",
    "    \"data/images/confirmed_fronts/Bentley/2017/Bentley$$Continental$$2017$$Grey$$10_5$$700$$image_5.jpg\"\n",
    "]"
   ]
  },
  {
   "cell_type": "code",
   "execution_count": null,
   "id": "20c094ee8b0c9f7c",
   "metadata": {
    "ExecuteTime": {
     "end_time": "2024-10-28T19:43:43.959272Z",
     "start_time": "2024-10-28T19:43:42.655222Z"
    },
    "collapsed": false
   },
   "outputs": [],
   "source": [
    "visualize_images(image_paths)"
   ]
  },
  {
   "cell_type": "code",
   "execution_count": null,
   "id": "a89e9ebb86b952b9",
   "metadata": {
    "ExecuteTime": {
     "end_time": "2024-10-28T19:43:34.510914Z",
     "start_time": "2024-10-28T19:42:56.103729Z"
    },
    "collapsed": false
   },
   "outputs": [],
   "source": [
    "import os\n",
    "import pandas as pd\n",
    "from tqdm import tqdm\n",
    "from PIL import Image\n",
    "\n",
    "root_dir = 'data/images/confirmed_fronts/'\n",
    "\n",
    "# Get total number of files for the progress bar\n",
    "total_files = sum([len(files) for r, d, files in os.walk(root_dir)])\n",
    "\n",
    "# Create a tqdm object\n",
    "pbar = tqdm(total=total_files, desc=\"Processing files\")\n",
    "\n",
    "# Initialize an empty list to store results\n",
    "results = []\n",
    "avg_probs = np.array([])\n",
    "\n",
    "# Counter for visualizing every 100 images\n",
    "image_counter = 0\n",
    "\n",
    "for dirpath, dirnames, filenames in os.walk(root_dir):\n",
    "    for filename in filenames:\n",
    "        full_path = os.path.join(dirpath, filename)\n",
    "        image, label, probs = predict_expression(full_path)\n",
    "        # Store results\n",
    "        result = {\n",
    "            'image_path': full_path,\n",
    "            'label': label\n",
    "        }\n",
    "        # Add probability columns\n",
    "        for i, prob in enumerate(probs):\n",
    "            result[f'prob_{CLASS_INDEX[i].lower()}'] = prob\n",
    "        \n",
    "        results.append(result)\n",
    "        pbar.update(1)\n",
    "\n",
    "pbar.close()\n",
    "# Create DataFrame from results\n",
    "df = pd.DataFrame(results)\n",
    "\n",
    "# Display the first few rows of the DataFrame\n",
    "print(df.head())\n",
    "\n",
    "# Optionally, save the DataFrame to a CSV file\n",
    "df.to_csv('expression_results.csv', index=False)"
   ]
  },
  {
   "cell_type": "code",
   "execution_count": null,
   "id": "3482992d650b2013",
   "metadata": {
    "collapsed": false
   },
   "outputs": [],
   "source": []
  },
  {
   "cell_type": "code",
   "execution_count": 7,
   "id": "3faadee584f42ddf",
   "metadata": {
    "ExecuteTime": {
     "end_time": "2024-10-28T18:54:44.721790Z",
     "start_time": "2024-10-28T18:54:44.400149Z"
    },
    "collapsed": false
   },
   "outputs": [],
   "source": []
  },
  {
   "cell_type": "code",
   "execution_count": null,
   "id": "fb69fa15faf85e91",
   "metadata": {
    "collapsed": false
   },
   "outputs": [],
   "source": []
  }
 ],
 "metadata": {
  "kernelspec": {
   "display_name": "venv",
   "language": "python",
   "name": "python3"
  },
  "language_info": {
   "codemirror_mode": {
    "name": "ipython",
    "version": 3
   },
   "file_extension": ".py",
   "mimetype": "text/x-python",
   "name": "python",
   "nbconvert_exporter": "python",
   "pygments_lexer": "ipython3",
   "version": "3.12.3"
  }
 },
 "nbformat": 4,
 "nbformat_minor": 5
}
